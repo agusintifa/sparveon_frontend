{
 "cells": [
  {
   "cell_type": "code",
   "execution_count": 26,
   "metadata": {},
   "outputs": [],
   "source": [
    "import rasterio"
   ]
  },
  {
   "cell_type": "code",
   "execution_count": 27,
   "metadata": {},
   "outputs": [],
   "source": [
    "ds = rasterio.open('Geologi_Regional3.tif')"
   ]
  },
  {
   "cell_type": "code",
   "execution_count": 28,
   "metadata": {},
   "outputs": [
    {
     "data": {
      "text/plain": [
       "array([[-3.4028231e+38, -3.4028231e+38, -3.4028231e+38, ...,\n",
       "        -3.4028231e+38, -3.4028231e+38, -3.4028231e+38],\n",
       "       [ 4.2857143e-01,  4.2857143e-01,  4.2857143e-01, ...,\n",
       "         5.7142860e-01,  5.7142860e-01,  5.7142860e-01],\n",
       "       [ 4.2857143e-01,  4.2857143e-01,  4.2857143e-01, ...,\n",
       "         5.7142860e-01,  5.7142860e-01,  5.7142860e-01],\n",
       "       ...,\n",
       "       [ 7.1428573e-01,  7.1428573e-01,  7.1428573e-01, ...,\n",
       "         5.7142860e-01,  5.7142860e-01,  5.7142860e-01],\n",
       "       [ 7.1428573e-01,  7.1428573e-01,  7.1428573e-01, ...,\n",
       "         5.7142860e-01,  5.7142860e-01,  5.7142860e-01],\n",
       "       [ 7.1428573e-01,  7.1428573e-01,  7.1428573e-01, ...,\n",
       "         5.7142860e-01,  5.7142860e-01,  5.7142860e-01]], dtype=float32)"
      ]
     },
     "execution_count": 28,
     "metadata": {},
     "output_type": "execute_result"
    }
   ],
   "source": [
    "profile_update = ds.profile\n",
    "band1 = ds.read(1)\n",
    "band1"
   ]
  },
  {
   "cell_type": "code",
   "execution_count": 31,
   "metadata": {},
   "outputs": [
    {
     "data": {
      "text/plain": [
       "{'driver': 'GTiff', 'dtype': 'float32', 'nodata': -3.402823e+38, 'width': 2272, 'height': 2627, 'count': 1, 'crs': CRS.from_epsg(32647), 'transform': Affine(5.0, 0.0, 500268.72140000015,\n",
       "       0.0, -5.0, 178927.0390000008), 'blockxsize': 128, 'blockysize': 128, 'tiled': True, 'interleave': 'band', 'compress': 'lzw'}"
      ]
     },
     "execution_count": 31,
     "metadata": {},
     "output_type": "execute_result"
    }
   ],
   "source": [
    "profile_update.update(\n",
    "    compress='lzw'\n",
    ")\n",
    "profile_update"
   ]
  },
  {
   "cell_type": "code",
   "execution_count": 32,
   "metadata": {},
   "outputs": [],
   "source": [
    "with rasterio.open('Geologi_Regional3_compressed.tif', 'w', **profile_update) as dst:\n",
    "    dst.write(band1, 1)"
   ]
  },
  {
   "cell_type": "code",
   "execution_count": null,
   "metadata": {},
   "outputs": [],
   "source": []
  }
 ],
 "metadata": {
  "kernelspec": {
   "display_name": "Python 3",
   "language": "python",
   "name": "python3"
  },
  "language_info": {
   "codemirror_mode": {
    "name": "ipython",
    "version": 3
   },
   "file_extension": ".py",
   "mimetype": "text/x-python",
   "name": "python",
   "nbconvert_exporter": "python",
   "pygments_lexer": "ipython3",
   "version": "3.7.3"
  }
 },
 "nbformat": 4,
 "nbformat_minor": 2
}
