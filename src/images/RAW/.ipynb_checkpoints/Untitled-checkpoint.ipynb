{
 "cells": [
  {
   "cell_type": "code",
   "execution_count": 1,
   "metadata": {},
   "outputs": [],
   "source": [
    "import rasterio"
   ]
  },
  {
   "cell_type": "code",
   "execution_count": 2,
   "metadata": {},
   "outputs": [],
   "source": [
    "ds = rasterio.open('Digital_Elevation_Model.tif')"
   ]
  },
  {
   "cell_type": "code",
   "execution_count": 6,
   "metadata": {},
   "outputs": [
    {
     "data": {
      "text/plain": [
       "array([[-3.4028231e+38, -3.4028231e+38, -3.4028231e+38, ...,\n",
       "        -3.4028231e+38, -3.4028231e+38, -3.4028231e+38],\n",
       "       [-3.4028231e+38,  5.3991598e-01,  5.0770307e-01, ...,\n",
       "         1.5126051e-01,  1.2394958e-01, -3.4028231e+38],\n",
       "       [-3.4028231e+38,  5.9943980e-01,  5.8403361e-01, ...,\n",
       "         1.2394958e-01,  1.1274510e-01, -3.4028231e+38],\n",
       "       ...,\n",
       "       [-3.4028231e+38,  9.7829133e-01,  9.9159664e-01, ...,\n",
       "         6.5756303e-01,  6.6946781e-01, -3.4028231e+38],\n",
       "       [-3.4028231e+38,  9.8109245e-01,  9.5028013e-01, ...,\n",
       "         7.8501403e-01,  8.0742300e-01, -3.4028231e+38],\n",
       "       [-3.4028231e+38, -3.4028231e+38, -3.4028231e+38, ...,\n",
       "        -3.4028231e+38, -3.4028231e+38, -3.4028231e+38]], dtype=float32)"
      ]
     },
     "execution_count": 6,
     "metadata": {},
     "output_type": "execute_result"
    }
   ],
   "source": [
    "profile_update = ds.profile\n",
    "band1 = ds.read(1)\n",
    "band1"
   ]
  },
  {
   "cell_type": "code",
   "execution_count": 22,
   "metadata": {},
   "outputs": [
    {
     "data": {
      "text/plain": [
       "{'driver': 'GTiff', 'dtype': 'float32', 'nodata': -3.402823e+38, 'width': 1367, 'height': 1579, 'count': 1, 'crs': CRS.from_epsg(32647), 'transform': Affine(8.317477999999966, 0.0, 500262.55974672665,\n",
       "       0.0, -8.317477999999964, 178925.27864889143), 'blockxsize': 128, 'blockysize': 128, 'tiled': True, 'interleave': 'band', 'compress': 'lzw'}"
      ]
     },
     "execution_count": 22,
     "metadata": {},
     "output_type": "execute_result"
    }
   ],
   "source": [
    "profile_update.update(\n",
    "    compress='deflate'\n",
    ")\n",
    "profile_update"
   ]
  },
  {
   "cell_type": "code",
   "execution_count": 23,
   "metadata": {},
   "outputs": [],
   "source": [
    "with rasterio.open('Digital_Elevation_Model_compressed.tif', 'w', **profile_update) as dst:\n",
    "    dst.write(band1, 1)"
   ]
  },
  {
   "cell_type": "code",
   "execution_count": null,
   "metadata": {},
   "outputs": [],
   "source": []
  }
 ],
 "metadata": {
  "kernelspec": {
   "display_name": "Python 3",
   "language": "python",
   "name": "python3"
  },
  "language_info": {
   "codemirror_mode": {
    "name": "ipython",
    "version": 3
   },
   "file_extension": ".py",
   "mimetype": "text/x-python",
   "name": "python",
   "nbconvert_exporter": "python",
   "pygments_lexer": "ipython3",
   "version": "3.7.3"
  }
 },
 "nbformat": 4,
 "nbformat_minor": 2
}
